{
 "cells": [
  {
   "cell_type": "markdown",
   "metadata": {},
   "source": [
    "# Chapter-4 : Q7"
   ]
  },
  {
   "cell_type": "markdown",
   "metadata": {},
   "source": [
    "## Import libraries and load dataset"
   ]
  },
  {
   "cell_type": "code",
   "execution_count": 83,
   "metadata": {},
   "outputs": [
    {
     "data": {
      "text/html": [
       "<div>\n",
       "<style scoped>\n",
       "    .dataframe tbody tr th:only-of-type {\n",
       "        vertical-align: middle;\n",
       "    }\n",
       "\n",
       "    .dataframe tbody tr th {\n",
       "        vertical-align: top;\n",
       "    }\n",
       "\n",
       "    .dataframe thead th {\n",
       "        text-align: right;\n",
       "    }\n",
       "</style>\n",
       "<table border=\"1\" class=\"dataframe\">\n",
       "  <thead>\n",
       "    <tr style=\"text-align: right;\">\n",
       "      <th></th>\n",
       "      <th>Year</th>\n",
       "      <th>Lag1</th>\n",
       "      <th>Lag2</th>\n",
       "      <th>Lag3</th>\n",
       "      <th>Lag4</th>\n",
       "      <th>Lag5</th>\n",
       "      <th>Volume</th>\n",
       "      <th>Today</th>\n",
       "      <th>Direction</th>\n",
       "    </tr>\n",
       "  </thead>\n",
       "  <tbody>\n",
       "    <tr>\n",
       "      <th>0</th>\n",
       "      <td>1990</td>\n",
       "      <td>0.816</td>\n",
       "      <td>1.572</td>\n",
       "      <td>-3.936</td>\n",
       "      <td>-0.229</td>\n",
       "      <td>-3.484</td>\n",
       "      <td>0.154976</td>\n",
       "      <td>-0.270</td>\n",
       "      <td>Down</td>\n",
       "    </tr>\n",
       "    <tr>\n",
       "      <th>1</th>\n",
       "      <td>1990</td>\n",
       "      <td>-0.270</td>\n",
       "      <td>0.816</td>\n",
       "      <td>1.572</td>\n",
       "      <td>-3.936</td>\n",
       "      <td>-0.229</td>\n",
       "      <td>0.148574</td>\n",
       "      <td>-2.576</td>\n",
       "      <td>Down</td>\n",
       "    </tr>\n",
       "    <tr>\n",
       "      <th>2</th>\n",
       "      <td>1990</td>\n",
       "      <td>-2.576</td>\n",
       "      <td>-0.270</td>\n",
       "      <td>0.816</td>\n",
       "      <td>1.572</td>\n",
       "      <td>-3.936</td>\n",
       "      <td>0.159837</td>\n",
       "      <td>3.514</td>\n",
       "      <td>Up</td>\n",
       "    </tr>\n",
       "    <tr>\n",
       "      <th>3</th>\n",
       "      <td>1990</td>\n",
       "      <td>3.514</td>\n",
       "      <td>-2.576</td>\n",
       "      <td>-0.270</td>\n",
       "      <td>0.816</td>\n",
       "      <td>1.572</td>\n",
       "      <td>0.161630</td>\n",
       "      <td>0.712</td>\n",
       "      <td>Up</td>\n",
       "    </tr>\n",
       "    <tr>\n",
       "      <th>4</th>\n",
       "      <td>1990</td>\n",
       "      <td>0.712</td>\n",
       "      <td>3.514</td>\n",
       "      <td>-2.576</td>\n",
       "      <td>-0.270</td>\n",
       "      <td>0.816</td>\n",
       "      <td>0.153728</td>\n",
       "      <td>1.178</td>\n",
       "      <td>Up</td>\n",
       "    </tr>\n",
       "    <tr>\n",
       "      <th>5</th>\n",
       "      <td>1990</td>\n",
       "      <td>1.178</td>\n",
       "      <td>0.712</td>\n",
       "      <td>3.514</td>\n",
       "      <td>-2.576</td>\n",
       "      <td>-0.270</td>\n",
       "      <td>0.154444</td>\n",
       "      <td>-1.372</td>\n",
       "      <td>Down</td>\n",
       "    </tr>\n",
       "    <tr>\n",
       "      <th>6</th>\n",
       "      <td>1990</td>\n",
       "      <td>-1.372</td>\n",
       "      <td>1.178</td>\n",
       "      <td>0.712</td>\n",
       "      <td>3.514</td>\n",
       "      <td>-2.576</td>\n",
       "      <td>0.151722</td>\n",
       "      <td>0.807</td>\n",
       "      <td>Up</td>\n",
       "    </tr>\n",
       "    <tr>\n",
       "      <th>7</th>\n",
       "      <td>1990</td>\n",
       "      <td>0.807</td>\n",
       "      <td>-1.372</td>\n",
       "      <td>1.178</td>\n",
       "      <td>0.712</td>\n",
       "      <td>3.514</td>\n",
       "      <td>0.132310</td>\n",
       "      <td>0.041</td>\n",
       "      <td>Up</td>\n",
       "    </tr>\n",
       "    <tr>\n",
       "      <th>8</th>\n",
       "      <td>1990</td>\n",
       "      <td>0.041</td>\n",
       "      <td>0.807</td>\n",
       "      <td>-1.372</td>\n",
       "      <td>1.178</td>\n",
       "      <td>0.712</td>\n",
       "      <td>0.143972</td>\n",
       "      <td>1.253</td>\n",
       "      <td>Up</td>\n",
       "    </tr>\n",
       "    <tr>\n",
       "      <th>9</th>\n",
       "      <td>1990</td>\n",
       "      <td>1.253</td>\n",
       "      <td>0.041</td>\n",
       "      <td>0.807</td>\n",
       "      <td>-1.372</td>\n",
       "      <td>1.178</td>\n",
       "      <td>0.133635</td>\n",
       "      <td>-2.678</td>\n",
       "      <td>Down</td>\n",
       "    </tr>\n",
       "  </tbody>\n",
       "</table>\n",
       "</div>"
      ],
      "text/plain": [
       "   Year   Lag1   Lag2   Lag3   Lag4   Lag5    Volume  Today Direction\n",
       "0  1990  0.816  1.572 -3.936 -0.229 -3.484  0.154976 -0.270      Down\n",
       "1  1990 -0.270  0.816  1.572 -3.936 -0.229  0.148574 -2.576      Down\n",
       "2  1990 -2.576 -0.270  0.816  1.572 -3.936  0.159837  3.514        Up\n",
       "3  1990  3.514 -2.576 -0.270  0.816  1.572  0.161630  0.712        Up\n",
       "4  1990  0.712  3.514 -2.576 -0.270  0.816  0.153728  1.178        Up\n",
       "5  1990  1.178  0.712  3.514 -2.576 -0.270  0.154444 -1.372      Down\n",
       "6  1990 -1.372  1.178  0.712  3.514 -2.576  0.151722  0.807        Up\n",
       "7  1990  0.807 -1.372  1.178  0.712  3.514  0.132310  0.041        Up\n",
       "8  1990  0.041  0.807 -1.372  1.178  0.712  0.143972  1.253        Up\n",
       "9  1990  1.253  0.041  0.807 -1.372  1.178  0.133635 -2.678      Down"
      ]
     },
     "execution_count": 83,
     "metadata": {},
     "output_type": "execute_result"
    }
   ],
   "source": [
    "import pandas as pd\n",
    "import numpy as np\n",
    "import statistics, math\n",
    "import matplotlib.pyplot as plt\n",
    "\n",
    "path = \"D:\\IIT JODHPUR\\Semester-3\\ML for Business\\Assignment-2\"\n",
    "dataset = \"weekly_dataset.csv\"\n",
    "df = pd.read_csv(os.path.join(path, dataset))\n",
    "df.head(10)"
   ]
  },
  {
   "cell_type": "markdown",
   "metadata": {},
   "source": [
    "## Data Visualization"
   ]
  },
  {
   "cell_type": "code",
   "execution_count": 84,
   "metadata": {},
   "outputs": [
    {
     "data": {
      "image/png": "[encoded data removed]",
      "text/plain": [
       "<Figure size 432x288 with 1 Axes>"
      ]
     },
     "metadata": {
      "needs_background": "light"
     },
     "output_type": "display_data"
    }
   ],
   "source": [
    "plt.plot(range(len(df)), df['Lag1'], color='violet', label='Lag1')\n",
    "plt.legend()\n",
    "plt.xlabel('Instances')\n",
    "plt.ylabel('Lag Values')\n",
    "plt.title('Lag-1 Plot')\n",
    "plt.show()"
   ]
  },
  {
   "cell_type": "code",
   "execution_count": 85,
   "metadata": {},
   "outputs": [
    {
     "data": {
      "image/png": "[encoded data removed]",
      "text/plain": [
       "<Figure size 432x288 with 1 Axes>"
      ]
     },
     "metadata": {
      "needs_background": "light"
     },
     "output_type": "display_data"
    }
   ],
   "source": [
    "plt.plot(range(len(df)), df['Lag2'], color='green', label='Lag2')\n",
    "plt.legend()\n",
    "plt.xlabel('Instances')\n",
    "plt.ylabel('Lag Values')\n",
    "plt.title('Lag-2 Plot')\n",
    "plt.show()"
   ]
  },
  {
   "cell_type": "code",
   "execution_count": 86,
   "metadata": {},
   "outputs": [
    {
     "data": {
      "image/png": "[encoded data removed]",
      "text/plain": [
       "<Figure size 432x288 with 1 Axes>"
      ]
     },
     "metadata": {
      "needs_background": "light"
     },
     "output_type": "display_data"
    }
   ],
   "source": [
    "plt.plot(range(len(df)), df['Lag3'], color='red', label='Lag3')\n",
    "plt.legend()\n",
    "plt.xlabel('Instances')\n",
    "plt.ylabel('Lag Values')\n",
    "plt.title('Lag-3 Plot')\n",
    "plt.show()"
   ]
  },
  {
   "cell_type": "code",
   "execution_count": 87,
   "metadata": {},
   "outputs": [
    {
     "data": {
      "image/png": "[encoded data removed]",
      "text/plain": [
       "<Figure size 432x288 with 1 Axes>"
      ]
     },
     "metadata": {
      "needs_background": "light"
     },
     "output_type": "display_data"
    }
   ],
   "source": [
    "plt.plot(range(len(df)), df['Lag4'], color='blue', label='Lag4')\n",
    "plt.legend()\n",
    "plt.xlabel('Instances')\n",
    "plt.ylabel('Lag Values')\n",
    "plt.title('Lag-4 Plot')\n",
    "plt.show()"
   ]
  },
  {
   "cell_type": "code",
   "execution_count": 88,
   "metadata": {},
   "outputs": [
    {
     "data": {
      "image/png": "[encoded data removed]",
      "text/plain": [
       "<Figure size 432x288 with 1 Axes>"
      ]
     },
     "metadata": {
      "needs_background": "light"
     },
     "output_type": "display_data"
    }
   ],
   "source": [
    "plt.plot(range(len(df)), df['Lag5'], color='pink', label='Lag5')\n",
    "plt.legend()\n",
    "plt.xlabel('Instances')\n",
    "plt.ylabel('Lag Values')\n",
    "plt.title('Lag-5 Plot')\n",
    "plt.show()"
   ]
  },
  {
   "cell_type": "code",
   "execution_count": 89,
   "metadata": {},
   "outputs": [
    {
     "data": {
      "image/png": "[encoded data removed]",
      "text/plain": [
       "<Figure size 432x288 with 1 Axes>"
      ]
     },
     "metadata": {
      "needs_background": "light"
     },
     "output_type": "display_data"
    }
   ],
   "source": [
    "plt.plot(range(len(df)), df['Today'], color='gray', label='Today')\n",
    "plt.legend()\n",
    "plt.xlabel('Instances')\n",
    "plt.ylabel('Values')\n",
    "plt.title('Today\\'s Plot')\n",
    "plt.show()"
   ]
  },
  {
   "cell_type": "code",
   "execution_count": 90,
   "metadata": {},
   "outputs": [
    {
     "data": {
      "image/png": "[encoded data removed]",
      "text/plain": [
       "<Figure size 432x288 with 1 Axes>"
      ]
     },
     "metadata": {
      "needs_background": "light"
     },
     "output_type": "display_data"
    }
   ],
   "source": [
    "plt.plot(range(len(df)), df['Lag1'], color='violet', label='Lag1')\n",
    "plt.plot(range(len(df)), df['Lag2'], color='green', label='Lag2')\n",
    "plt.plot(range(len(df)), df['Lag3'], color='red', label='Lag3')\n",
    "plt.plot(range(len(df)), df['Lag4'], color='blue', label='Lag4')\n",
    "plt.plot(range(len(df)), df['Lag5'], color='gray', label='Lag5')\n",
    "plt.plot(range(len(df)), df['Today'], color='pink', label='Today')\n",
    "plt.legend()\n",
    "plt.xlabel('Instances')\n",
    "plt.ylabel('Lag Values')\n",
    "plt.title('All Lag Plot')\n",
    "plt.show()"
   ]
  },
  {
   "cell_type": "markdown",
   "metadata": {},
   "source": [
    "## Data Preparation"
   ]
  },
  {
   "cell_type": "code",
   "execution_count": 91,
   "metadata": {},
   "outputs": [
    {
     "data": {
      "text/html": [
       "<div>\n",
       "<style scoped>\n",
       "    .dataframe tbody tr th:only-of-type {\n",
       "        vertical-align: middle;\n",
       "    }\n",
       "\n",
       "    .dataframe tbody tr th {\n",
       "        vertical-align: top;\n",
       "    }\n",
       "\n",
       "    .dataframe thead th {\n",
       "        text-align: right;\n",
       "    }\n",
       "</style>\n",
       "<table border=\"1\" class=\"dataframe\">\n",
       "  <thead>\n",
       "    <tr style=\"text-align: right;\">\n",
       "      <th></th>\n",
       "      <th>Lag1</th>\n",
       "      <th>Lag2</th>\n",
       "      <th>Lag3</th>\n",
       "      <th>Lag4</th>\n",
       "      <th>Lag5</th>\n",
       "      <th>Volume</th>\n",
       "      <th>Direction</th>\n",
       "    </tr>\n",
       "  </thead>\n",
       "  <tbody>\n",
       "    <tr>\n",
       "      <th>0</th>\n",
       "      <td>0.816</td>\n",
       "      <td>1.572</td>\n",
       "      <td>-3.936</td>\n",
       "      <td>-0.229</td>\n",
       "      <td>-3.484</td>\n",
       "      <td>0.154976</td>\n",
       "      <td>0</td>\n",
       "    </tr>\n",
       "    <tr>\n",
       "      <th>1</th>\n",
       "      <td>-0.270</td>\n",
       "      <td>0.816</td>\n",
       "      <td>1.572</td>\n",
       "      <td>-3.936</td>\n",
       "      <td>-0.229</td>\n",
       "      <td>0.148574</td>\n",
       "      <td>0</td>\n",
       "    </tr>\n",
       "    <tr>\n",
       "      <th>2</th>\n",
       "      <td>-2.576</td>\n",
       "      <td>-0.270</td>\n",
       "      <td>0.816</td>\n",
       "      <td>1.572</td>\n",
       "      <td>-3.936</td>\n",
       "      <td>0.159837</td>\n",
       "      <td>1</td>\n",
       "    </tr>\n",
       "    <tr>\n",
       "      <th>3</th>\n",
       "      <td>3.514</td>\n",
       "      <td>-2.576</td>\n",
       "      <td>-0.270</td>\n",
       "      <td>0.816</td>\n",
       "      <td>1.572</td>\n",
       "      <td>0.161630</td>\n",
       "      <td>1</td>\n",
       "    </tr>\n",
       "    <tr>\n",
       "      <th>4</th>\n",
       "      <td>0.712</td>\n",
       "      <td>3.514</td>\n",
       "      <td>-2.576</td>\n",
       "      <td>-0.270</td>\n",
       "      <td>0.816</td>\n",
       "      <td>0.153728</td>\n",
       "      <td>1</td>\n",
       "    </tr>\n",
       "  </tbody>\n",
       "</table>\n",
       "</div>"
      ],
      "text/plain": [
       "    Lag1   Lag2   Lag3   Lag4   Lag5    Volume  Direction\n",
       "0  0.816  1.572 -3.936 -0.229 -3.484  0.154976          0\n",
       "1 -0.270  0.816  1.572 -3.936 -0.229  0.148574          0\n",
       "2 -2.576 -0.270  0.816  1.572 -3.936  0.159837          1\n",
       "3  3.514 -2.576 -0.270  0.816  1.572  0.161630          1\n",
       "4  0.712  3.514 -2.576 -0.270  0.816  0.153728          1"
      ]
     },
     "execution_count": 91,
     "metadata": {},
     "output_type": "execute_result"
    }
   ],
   "source": [
    "new_df = df.drop('Year', axis=1)\n",
    "new_df = new_df.drop('Today', axis=1)\n",
    "new_df['Direction'] = new_df['Direction'].map({'Down' : 0, 'Up' : 1})\n",
    "new_df.head()"
   ]
  },
  {
   "cell_type": "code",
   "execution_count": 92,
   "metadata": {},
   "outputs": [
    {
     "name": "stdout",
     "output_type": "stream",
     "text": [
      "Train size : 872\tValidation size : 217\n"
     ]
    }
   ],
   "source": [
    "X = np.array([np.asarray(new_df.loc[i][:-1]) for i in range(len(new_df))])\n",
    "y = np.array(new_df['Direction'])\n",
    "\n",
    "split = 0.8\n",
    "random_permutation = range(len(X))\n",
    "train_size = math.ceil(len(X)*split)\n",
    "test_size = math.ceil(len(X)*(1-split))\n",
    "\n",
    "X_train = []\n",
    "y_train = []\n",
    "X_val = []\n",
    "y_val = []\n",
    "\n",
    "for i in random_permutation[:train_size]:\n",
    "    X_train.append(X[i])\n",
    "    y_train.append(y[i])\n",
    "for i in random_permutation[train_size:train_size+test_size]:\n",
    "    X_val.append(X[i])\n",
    "    y_val.append(y[i])\n",
    "\n",
    "X_train = np.array(X_train)\n",
    "y_train = np.array(y_train)\n",
    "X_val = np.array(X_val)\n",
    "y_val = np.array(y_val)\n",
    "print(f\"Train size : {len(X_train)}\\tValidation size : {len(X_val)}\")"
   ]
  },
  {
   "cell_type": "markdown",
   "metadata": {},
   "source": [
    "## Logistic Regression (using all Lag values & Volume as predictors)"
   ]
  },
  {
   "cell_type": "code",
   "execution_count": 93,
   "metadata": {},
   "outputs": [
    {
     "name": "stdout",
     "output_type": "stream",
     "text": [
      "Model Summary :\n",
      "Intercept : [0.32243153]\n",
      "Feature Coeff, : [[-0.03614264  0.03385739 -0.02246678 -0.03041501 -0.06545249 -0.07547277]]\n",
      "\n",
      "Accuracy score on Validation set : 0.5207\tF1 score : 0.5216\n",
      "\n",
      "Confusion Matrix : \n",
      "[[53 46]\n",
      " [58 60]]\n",
      "\n",
      "Classification Report : \n",
      "              precision    recall  f1-score   support\n",
      "\n",
      "           0       0.48      0.54      0.50        99\n",
      "           1       0.57      0.51      0.54       118\n",
      "\n",
      "    accuracy                           0.52       217\n",
      "   macro avg       0.52      0.52      0.52       217\n",
      "weighted avg       0.53      0.52      0.52       217\n",
      "\n",
      "\n"
     ]
    }
   ],
   "source": [
    "from sklearn.linear_model import LogisticRegression\n",
    "model = LogisticRegression()\n",
    "model.fit(X_train, y_train)\n",
    "y_pred = model.predict(X_val)\n",
    "\n",
    "print(f\"Model Summary :\\nIntercept : {model.intercept_}\\nFeature Coeff, : {model.coef_}\\n\")\n",
    "\n",
    "from sklearn.metrics import accuracy_score, f1_score, confusion_matrix, classification_report\n",
    "print(f\"Accuracy score on Validation set : {accuracy_score(y_pred=y_pred, y_true=y_val):.4f}\\tF1 score : {f1_score(y_pred=y_pred, y_true=y_val, average='weighted'):.4f}\\n\")\n",
    "print(f\"Confusion Matrix : \\n{confusion_matrix(y_pred=y_pred, y_true=y_val)}\\n\")\n",
    "print(f\"Classification Report : \\n{classification_report(y_true=y_val, y_pred=y_pred)}\\n\")"
   ]
  },
  {
   "cell_type": "markdown",
   "metadata": {},
   "source": [
    "## Logistic Regression (using Lag-2 as predictor)"
   ]
  },
  {
   "cell_type": "markdown",
   "metadata": {},
   "source": [
    "### Data preparation"
   ]
  },
  {
   "cell_type": "code",
   "execution_count": 94,
   "metadata": {},
   "outputs": [
    {
     "name": "stdout",
     "output_type": "stream",
     "text": [
      "Train size : 985\tValidation size : 104\n"
     ]
    }
   ],
   "source": [
    "X_train = []\n",
    "y_train = []\n",
    "X_val = []\n",
    "y_val = []\n",
    "\n",
    "for i in range(len(df)):\n",
    "    if df.loc[i]['Year'] >= 2009:\n",
    "        X_val.append(np.asarray(new_df.loc[i][:-1]))\n",
    "        y_val.append(new_df.loc[i]['Direction'])\n",
    "    else:\n",
    "        X_train.append(np.asarray(new_df.loc[i][:-1]))\n",
    "        y_train.append(new_df.loc[i]['Direction'])\n",
    "\n",
    "X_train = np.array(X_train)\n",
    "y_train = np.array(y_train)\n",
    "X_val = np.array(X_val)\n",
    "y_val = np.array(y_val)\n",
    "print(f\"Train size : {len(X_train)}\\tValidation size : {len(X_val)}\")"
   ]
  },
  {
   "cell_type": "markdown",
   "metadata": {},
   "source": [
    "### Model"
   ]
  },
  {
   "cell_type": "code",
   "execution_count": 95,
   "metadata": {},
   "outputs": [
    {
     "name": "stdout",
     "output_type": "stream",
     "text": [
      "Model Summary :\n",
      "Intercept : [0.20326236]\n",
      "Feature Coeff, : [[0.05804742]]\n",
      "\n",
      "Accuracy score on Validation set : 0.6250\tF1 score : 0.5656\n",
      "\n",
      "Confusion Matrix : \n",
      "[[ 9 34]\n",
      " [ 5 56]]\n",
      "\n",
      "Classification Report : \n",
      "              precision    recall  f1-score   support\n",
      "\n",
      "         0.0       0.64      0.21      0.32        43\n",
      "         1.0       0.62      0.92      0.74        61\n",
      "\n",
      "    accuracy                           0.62       104\n",
      "   macro avg       0.63      0.56      0.53       104\n",
      "weighted avg       0.63      0.62      0.57       104\n",
      "\n",
      "\n"
     ]
    }
   ],
   "source": [
    "# Run the dataset preparation for safety\n",
    "X_train = X_train[:, 1].reshape(-1, 1)\n",
    "X_val = X_val[:, 1].reshape(-1, 1)\n",
    "\n",
    "from sklearn.linear_model import LogisticRegression\n",
    "model = LogisticRegression()\n",
    "model.fit(X_train, y_train)\n",
    "y_pred = model.predict(X_val)\n",
    "\n",
    "print(f\"Model Summary :\\nIntercept : {model.intercept_}\\nFeature Coeff, : {model.coef_}\\n\")\n",
    "\n",
    "from sklearn.metrics import accuracy_score, f1_score, confusion_matrix, classification_report\n",
    "print(f\"Accuracy score on Validation set : {accuracy_score(y_pred=y_pred, y_true=y_val):.4f}\\tF1 score : {f1_score(y_pred=y_pred, y_true=y_val, average='weighted'):.4f}\\n\")\n",
    "print(f\"Confusion Matrix : \\n{confusion_matrix(y_pred=y_pred, y_true=y_val)}\\n\")\n",
    "print(f\"Classification Report : \\n{classification_report(y_true=y_val, y_pred=y_pred)}\\n\")"
   ]
  },
  {
   "cell_type": "markdown",
   "metadata": {},
   "source": [
    "## Linear Discriminant Analysis"
   ]
  },
  {
   "cell_type": "markdown",
   "metadata": {},
   "source": [
    "### Data preparation"
   ]
  },
  {
   "cell_type": "code",
   "execution_count": 96,
   "metadata": {},
   "outputs": [
    {
     "name": "stdout",
     "output_type": "stream",
     "text": [
      "Train size : 985\tValidation size : 104\n"
     ]
    }
   ],
   "source": [
    "X_train = []\n",
    "y_train = []\n",
    "X_val = []\n",
    "y_val = []\n",
    "\n",
    "for i in range(len(df)):\n",
    "    if df.loc[i]['Year'] >= 2009:\n",
    "        X_val.append(np.asarray(new_df.loc[i][:-1]))\n",
    "        y_val.append(new_df.loc[i]['Direction'])\n",
    "    else:\n",
    "        X_train.append(np.asarray(new_df.loc[i][:-1]))\n",
    "        y_train.append(new_df.loc[i]['Direction'])\n",
    "\n",
    "X_train = np.array(X_train)\n",
    "y_train = np.array(y_train)\n",
    "X_val = np.array(X_val)\n",
    "y_val = np.array(y_val)\n",
    "print(f\"Train size : {len(X_train)}\\tValidation size : {len(X_val)}\")"
   ]
  },
  {
   "cell_type": "markdown",
   "metadata": {},
   "source": [
    "### Model"
   ]
  },
  {
   "cell_type": "code",
   "execution_count": 97,
   "metadata": {},
   "outputs": [
    {
     "name": "stdout",
     "output_type": "stream",
     "text": [
      "Model Summary :\n",
      "Intercept : [0.203424]\n",
      "Feature Coeff, : [[0.05768451]]\n",
      "\n",
      "Accuracy score on Validation set : 0.6250\tF1 score : 0.5656\n",
      "\n",
      "Confusion Matrix : \n",
      "[[ 9 34]\n",
      " [ 5 56]]\n",
      "\n",
      "Classification Report : \n",
      "              precision    recall  f1-score   support\n",
      "\n",
      "         0.0       0.64      0.21      0.32        43\n",
      "         1.0       0.62      0.92      0.74        61\n",
      "\n",
      "    accuracy                           0.62       104\n",
      "   macro avg       0.63      0.56      0.53       104\n",
      "weighted avg       0.63      0.62      0.57       104\n",
      "\n",
      "\n"
     ]
    }
   ],
   "source": [
    "# Run the dataset preparation for safety\n",
    "X_train = X_train[:, 1].reshape(-1, 1)\n",
    "X_val = X_val[:, 1].reshape(-1, 1)\n",
    "\n",
    "from sklearn.discriminant_analysis import LinearDiscriminantAnalysis\n",
    "model = LinearDiscriminantAnalysis()\n",
    "model.fit(X_train, y_train)\n",
    "y_pred = model.predict(X_val)\n",
    "\n",
    "print(f\"Model Summary :\\nIntercept : {model.intercept_}\\nFeature Coeff, : {model.coef_}\\n\")\n",
    "\n",
    "from sklearn.metrics import accuracy_score, f1_score, confusion_matrix, classification_report\n",
    "print(f\"Accuracy score on Validation set : {accuracy_score(y_pred=y_pred, y_true=y_val):.4f}\\tF1 score : {f1_score(y_pred=y_pred, y_true=y_val, average='weighted'):.4f}\\n\")\n",
    "print(f\"Confusion Matrix : \\n{confusion_matrix(y_pred=y_pred, y_true=y_val)}\\n\")\n",
    "print(f\"Classification Report : \\n{classification_report(y_true=y_val, y_pred=y_pred)}\\n\")"
   ]
  },
  {
   "cell_type": "markdown",
   "metadata": {},
   "source": [
    "## Quadratic Discriminant Analysis"
   ]
  },
  {
   "cell_type": "markdown",
   "metadata": {},
   "source": [
    "### Data preparation"
   ]
  },
  {
   "cell_type": "code",
   "execution_count": 98,
   "metadata": {},
   "outputs": [
    {
     "name": "stdout",
     "output_type": "stream",
     "text": [
      "Train size : 985\tValidation size : 104\n"
     ]
    }
   ],
   "source": [
    "X_train = []\n",
    "y_train = []\n",
    "X_val = []\n",
    "y_val = []\n",
    "\n",
    "for i in range(len(df)):\n",
    "    if df.loc[i]['Year'] >= 2009:\n",
    "        X_val.append(np.asarray(new_df.loc[i][:-1]))\n",
    "        y_val.append(new_df.loc[i]['Direction'])\n",
    "    else:\n",
    "        X_train.append(np.asarray(new_df.loc[i][:-1]))\n",
    "        y_train.append(new_df.loc[i]['Direction'])\n",
    "\n",
    "X_train = np.array(X_train)\n",
    "y_train = np.array(y_train)\n",
    "X_val = np.array(X_val)\n",
    "y_val = np.array(y_val)\n",
    "print(f\"Train size : {len(X_train)}\\tValidation size : {len(X_val)}\")"
   ]
  },
  {
   "cell_type": "markdown",
   "metadata": {},
   "source": [
    "### Model"
   ]
  },
  {
   "cell_type": "code",
   "execution_count": 99,
   "metadata": {},
   "outputs": [
    {
     "name": "stdout",
     "output_type": "stream",
     "text": [
      "Model Summary :\n",
      "{'priors': None, 'reg_param': 0.0, 'store_covariance': False, 'tol': 0.0001}\n",
      "\n",
      "Accuracy score on Validation set : 0.5865\tF1 score : 0.4337\n",
      "\n",
      "Confusion Matrix : \n",
      "[[ 0 43]\n",
      " [ 0 61]]\n",
      "\n",
      "Classification Report : \n",
      "              precision    recall  f1-score   support\n",
      "\n",
      "         0.0       0.00      0.00      0.00        43\n",
      "         1.0       0.59      1.00      0.74        61\n",
      "\n",
      "    accuracy                           0.59       104\n",
      "   macro avg       0.29      0.50      0.37       104\n",
      "weighted avg       0.34      0.59      0.43       104\n",
      "\n",
      "\n"
     ]
    },
    {
     "name": "stderr",
     "output_type": "stream",
     "text": [
      "c:\\Users\\ayana\\AppData\\Local\\Programs\\Python\\Python310\\lib\\site-packages\\sklearn\\metrics\\_classification.py:1318: UndefinedMetricWarning: Precision and F-score are ill-defined and being set to 0.0 in labels with no predicted samples. Use `zero_division` parameter to control this behavior.\n",
      "  _warn_prf(average, modifier, msg_start, len(result))\n",
      "c:\\Users\\ayana\\AppData\\Local\\Programs\\Python\\Python310\\lib\\site-packages\\sklearn\\metrics\\_classification.py:1318: UndefinedMetricWarning: Precision and F-score are ill-defined and being set to 0.0 in labels with no predicted samples. Use `zero_division` parameter to control this behavior.\n",
      "  _warn_prf(average, modifier, msg_start, len(result))\n",
      "c:\\Users\\ayana\\AppData\\Local\\Programs\\Python\\Python310\\lib\\site-packages\\sklearn\\metrics\\_classification.py:1318: UndefinedMetricWarning: Precision and F-score are ill-defined and being set to 0.0 in labels with no predicted samples. Use `zero_division` parameter to control this behavior.\n",
      "  _warn_prf(average, modifier, msg_start, len(result))\n"
     ]
    }
   ],
   "source": [
    "# Run the dataset preparation for safety\n",
    "X_train = X_train[:, 1].reshape(-1, 1)\n",
    "X_val = X_val[:, 1].reshape(-1, 1)\n",
    "\n",
    "from sklearn.discriminant_analysis import QuadraticDiscriminantAnalysis\n",
    "model = QuadraticDiscriminantAnalysis()\n",
    "model.fit(X_train, y_train)\n",
    "y_pred = model.predict(X_val)\n",
    "\n",
    "print(f\"Model Summary :\\n{model.get_params()}\\n\")\n",
    "\n",
    "from sklearn.metrics import accuracy_score, f1_score, confusion_matrix, classification_report\n",
    "print(f\"Accuracy score on Validation set : {accuracy_score(y_pred=y_pred, y_true=y_val):.4f}\\tF1 score : {f1_score(y_pred=y_pred, y_true=y_val, average='weighted'):.4f}\\n\")\n",
    "print(f\"Confusion Matrix : \\n{confusion_matrix(y_pred=y_pred, y_true=y_val)}\\n\")\n",
    "print(f\"Classification Report : \\n{classification_report(y_true=y_val, y_pred=y_pred)}\\n\")"
   ]
  }
 ],
 "metadata": {
  "kernelspec": {
   "display_name": "Python 3.10.4 64-bit",
   "language": "python",
   "name": "python3"
  },
  "language_info": {
   "codemirror_mode": {
    "name": "ipython",
    "version": 3
   },
   "file_extension": ".py",
   "mimetype": "text/x-python",
   "name": "python",
   "nbconvert_exporter": "python",
   "pygments_lexer": "ipython3",
   "version": "3.10.4"
  },
  "orig_nbformat": 4,
  "vscode": {
   "interpreter": {
    "hash": "8af0c7b516e23976b6ef6c4f3f67ca7449b209a47950dd9299e28344133359b8"
   }
  }
 },
 "nbformat": 4,
 "nbformat_minor": 2
}
